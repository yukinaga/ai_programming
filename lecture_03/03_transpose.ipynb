{
  "nbformat": 4,
  "nbformat_minor": 0,
  "metadata": {
    "kernelspec": {
      "display_name": "Python 3",
      "language": "python",
      "name": "python3"
    },
    "language_info": {
      "codemirror_mode": {
        "name": "ipython",
        "version": 3
      },
      "file_extension": ".py",
      "mimetype": "text/x-python",
      "name": "python",
      "nbconvert_exporter": "python",
      "pygments_lexer": "ipython3",
      "version": "3.5.4"
    },
    "colab": {
      "name": "03_transpose.ipynb",
      "provenance": [],
      "collapsed_sections": [],
      "include_colab_link": true
    }
  },
  "cells": [
    {
      "cell_type": "markdown",
      "metadata": {
        "id": "view-in-github",
        "colab_type": "text"
      },
      "source": [
        "<a href=\"https://colab.research.google.com/github/yukinaga/ai_programming/blob/main/lecture_03/03_transpose.ipynb\" target=\"_parent\"><img src=\"https://colab.research.google.com/assets/colab-badge.svg\" alt=\"Open In Colab\"/></a>"
      ]
    },
    {
      "cell_type": "markdown",
      "metadata": {
        "id": "HKPv4s_KiC8y"
      },
      "source": [
        "# 転置\n",
        "転置により、行列の行と列を入れ替えます。人工知能のコードでは転置を頻繁に使います。"
      ]
    },
    {
      "cell_type": "markdown",
      "metadata": {
        "id": "ILH_f1SQiC82"
      },
      "source": [
        "### 転置とは？\n",
        "\n",
        "行列に対する重要な操作に、**転置**というものがあります。行列を転置することにより、行と列が入れ替わります。以下は転置の例ですが、例えば行列$A$の転置行列は$A^{\\mathrm{T}}$と表します。  \n",
        "\n",
        "$$  \\begin{aligned} \\\\\n",
        "   A & = \\left(\n",
        "    \\begin{array}{ccc}\n",
        "      1 & 2 & 3 \\\\\n",
        "      4 & 5 & 6 \\\\\n",
        "    \\end{array}\n",
        "  \\right) \\\\\n",
        "   A^{\\mathrm{T}} & = \\left(\n",
        "    \\begin{array}{cc}\n",
        "      1 & 4 \\\\\n",
        "      2 & 5 \\\\\n",
        "      3 & 6 \\\\\n",
        "    \\end{array}\n",
        "  \\right) \\\\\n",
        "\\end{aligned} $$ \n",
        "\n",
        "$$  \\begin{aligned} \\\\\n",
        "   B & = \\left(\n",
        "    \\begin{array}{cc}\n",
        "      a & b \\\\\n",
        "      c & d \\\\\n",
        "      e & f \\\\\n",
        "    \\end{array}\n",
        "  \\right) \\\\\n",
        "   B^{\\mathrm{T}} & = \\left(\n",
        "    \\begin{array}{ccc}\n",
        "      a & c & e \\\\\n",
        "      b & d & f \\\\\n",
        "    \\end{array}\n",
        "  \\right) \\\\\n",
        "\\end{aligned} $$ "
      ]
    },
    {
      "cell_type": "markdown",
      "metadata": {
        "id": "Z-uC3r2viC83"
      },
      "source": [
        "### 転置の実装\n",
        "Numpyにおいては、行列を表す配列名の後に`.T`を付けると転置されます。"
      ]
    },
    {
      "cell_type": "code",
      "metadata": {
        "id": "UHwRC-NuiC83",
        "outputId": "ece70481-29e9-4a6e-bc56-cdce38a51823"
      },
      "source": [
        "import numpy as np\n",
        "\n",
        "a = np.array([[1, 2, 3],\n",
        "              [4, 5, 6]])\n",
        "print(a.T)  # 転置"
      ],
      "execution_count": null,
      "outputs": [
        {
          "name": "stdout",
          "output_type": "stream",
          "text": [
            "[[1 4]\n",
            " [2 5]\n",
            " [3 6]]\n"
          ]
        }
      ]
    },
    {
      "cell_type": "markdown",
      "metadata": {
        "id": "oPjqUMNeiC86"
      },
      "source": [
        "### 転置と行列積の実装\n",
        "以下は、Numpyの配列を転置し、行列積を計算している例です。配列名のあとに```.T```をつけると、転置行列になります。"
      ]
    },
    {
      "cell_type": "code",
      "metadata": {
        "id": "VyTWEXSDiC86",
        "outputId": "a5c335e4-0eb8-4e14-bbf7-842c1161ee1c"
      },
      "source": [
        "import numpy as np\n",
        "\n",
        "a = np.array([[0, 1, 2],\n",
        "              [1, 2, 3]])  # 2x3\n",
        "b = np.array([[0, 1, 2],\n",
        "              [1, 2, 3]])  # 2x3 このままでは行列積ができない\n",
        "\n",
        "# print(np.dot(a, b))  # エラー\n",
        "print(np.dot(a, b.T))  # 転置により行列積が可能に"
      ],
      "execution_count": null,
      "outputs": [
        {
          "name": "stdout",
          "output_type": "stream",
          "text": [
            "[[ 5  8]\n",
            " [ 8 14]]\n"
          ]
        }
      ]
    },
    {
      "cell_type": "markdown",
      "metadata": {
        "id": "HFPesZX5iC87"
      },
      "source": [
        "上記のコードでは、行列`b`を転置することで行数が3になり、行列`a`の列数と一致するので行列積が可能になっています。  "
      ]
    },
    {
      "cell_type": "markdown",
      "metadata": {
        "id": "ESkgZOEZiC87"
      },
      "source": [
        "### 演習:\n",
        "以下のセルで行列aもしくは行列bを転置し、行列aと行列bの行列積を計算しましょう。"
      ]
    },
    {
      "cell_type": "code",
      "metadata": {
        "id": "Gf2yka-_iC88",
        "outputId": "6cafd408-8f60-4c11-d28d-39aebfe8ab1d"
      },
      "source": [
        "import numpy as np\n",
        "\n",
        "a = np.array([[0, 1, 2],\n",
        "              [1, 2, 3]]) \n",
        "b = np.array([[0, 1, 2],\n",
        "              [2, 3, 4]]) \n",
        "\n",
        "# 行列積\n",
        "print(np.dot(a, b.T))"
      ],
      "execution_count": null,
      "outputs": [
        {
          "name": "stdout",
          "output_type": "stream",
          "text": [
            "[[ 5 11]\n",
            " [ 8 20]]\n"
          ]
        }
      ]
    }
  ]
}