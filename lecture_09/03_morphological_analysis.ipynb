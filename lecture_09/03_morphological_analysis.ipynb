{
  "nbformat": 4,
  "nbformat_minor": 0,
  "metadata": {
    "kernelspec": {
      "display_name": "Python 3 (ipykernel)",
      "language": "python",
      "name": "python3"
    },
    "language_info": {
      "codemirror_mode": {
        "name": "ipython",
        "version": 3
      },
      "file_extension": ".py",
      "mimetype": "text/x-python",
      "name": "python",
      "nbconvert_exporter": "python",
      "pygments_lexer": "ipython3",
      "version": "3.8.12"
    },
    "colab": {
      "name": "03_morphological_analysis.ipynb",
      "provenance": [],
      "collapsed_sections": [],
      "include_colab_link": true
    }
  },
  "cells": [
    {
      "cell_type": "markdown",
      "metadata": {
        "id": "view-in-github",
        "colab_type": "text"
      },
      "source": [
        "<a href=\"https://colab.research.google.com/github/yukinaga/ai_programming/blob/main/lecture_09/03_morphological_analysis.ipynb\" target=\"_parent\"><img src=\"https://colab.research.google.com/assets/colab-badge.svg\" alt=\"Open In Colab\"/></a>"
      ]
    },
    {
      "cell_type": "markdown",
      "metadata": {
        "id": "T5Y9J5ZXseMI"
      },
      "source": [
        "# 形態素解析\n",
        "形態素解析とは、自然言語を形態素にまで分割することです。  \n",
        "形態素とは、言葉が意味を持つまとまりの単語の最小単位のことです。  \n",
        "今回は、形態素解析を用いて単語に分割します。  "
      ]
    },
    {
      "cell_type": "markdown",
      "metadata": {
        "id": "x8PoTnfx8JfL"
      },
      "source": [
        "## ライブラリのインストール\n",
        "Janomeは日本語の形態素解析が可能なツールです。  "
      ]
    },
    {
      "cell_type": "code",
      "metadata": {
        "id": "CRJJYYW-8R9d"
      },
      "source": [
        "!pip install janome"
      ],
      "execution_count": null,
      "outputs": []
    },
    {
      "cell_type": "markdown",
      "metadata": {
        "id": "TCSMvucAseML"
      },
      "source": [
        "Janomeを使って形態素解析を行いましょう。  \n",
        "Tokenizerをインポートします。  "
      ]
    },
    {
      "cell_type": "code",
      "metadata": {
        "id": "Fz3h1d6WseML"
      },
      "source": [
        "from janome.tokenizer import Tokenizer\n",
        "\n",
        "t = Tokenizer()\n",
        "\n",
        "s = \"すもももももももものうち\"\n",
        "\n",
        "for token in t.tokenize(s):\n",
        "    print(token)"
      ],
      "execution_count": null,
      "outputs": []
    },
    {
      "cell_type": "markdown",
      "metadata": {
        "id": "0uRsDzb1seMN"
      },
      "source": [
        "## 分かち書き\n",
        "Janomeを使って分かち書きを行います。  \n",
        "分かち書きとは、文章を単語ごとに分割することです。  \n",
        "`tokenize`の際に引数を`wakati=True`にすることで、各単語に分割できます。  \n",
        "`tokenize`関数はgeneratorの形で分割された単語を返すので、単語をリストに格納したい場合は`list()`によりリストに変換します。"
      ]
    },
    {
      "cell_type": "code",
      "metadata": {
        "id": "QexY60s0seMN"
      },
      "source": [
        "from janome.tokenizer import Tokenizer\n",
        "\n",
        "t = Tokenizer()\n",
        "\n",
        "s = \"すもももももももものうち\"\n",
        "\n",
        "word_list = t.tokenize(s, wakati=True)\n",
        "word_list = list(word_list)  # generatorをリストに変換\n",
        "print(word_list)"
      ],
      "execution_count": null,
      "outputs": []
    },
    {
      "cell_type": "markdown",
      "metadata": {
        "id": "q1ndrQINseMN"
      },
      "source": [
        "## コーパスを分かち書き\n",
        "前回前処理を行った「我輩は猫である」に対して、分かち書きを行います。  "
      ]
    },
    {
      "cell_type": "code",
      "metadata": {
        "id": "3diiEHcPseMO"
      },
      "source": [
        "from janome.tokenizer import Tokenizer\n",
        "import pickle\n",
        "\n",
        "t = Tokenizer()\n",
        "\n",
        "with open('wagahai_list.pickle', mode='rb') as f:\n",
        "    wagahai_list = pickle.load(f)\n",
        "\n",
        "for sentence in wagahai_list:\n",
        "    print(list(t.tokenize(sentence, wakati=True)))"
      ],
      "execution_count": null,
      "outputs": []
    },
    {
      "cell_type": "markdown",
      "metadata": {
        "id": "5X1e41y8seMO"
      },
      "source": [
        "collectionsを使うことで、各単語の出現回数をカウントすることができます。"
      ]
    },
    {
      "cell_type": "code",
      "metadata": {
        "id": "XMvAC3t7seMO"
      },
      "source": [
        "import collections\n",
        "\n",
        "t = Tokenizer()\n",
        "\n",
        "words = []\n",
        "for sentence in wagahai_list:\n",
        "    words += list(t.tokenize(sentence, wakati=True))   # リストwordsに全ての単語を入れる\n",
        "\n",
        "c = collections.Counter(words)\n",
        "print(c)"
      ],
      "execution_count": null,
      "outputs": []
    },
    {
      "cell_type": "markdown",
      "metadata": {
        "id": "kwwGr1ANseMP"
      },
      "source": [
        "## 課題:\n",
        "前回の課題で前処理した「銀河鉄道の夜」で各単語数をカウントしてみましょう。"
      ]
    },
    {
      "cell_type": "code",
      "metadata": {
        "id": "jPPJdA9ZseMP"
      },
      "source": [
        ""
      ],
      "execution_count": null,
      "outputs": []
    }
  ]
}