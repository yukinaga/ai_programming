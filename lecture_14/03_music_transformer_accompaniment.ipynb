{
  "nbformat": 4,
  "nbformat_minor": 0,
  "metadata": {
    "colab": {
      "name": "03_music_transformer_accompaniment.ipynb",
      "provenance": [],
      "collapsed_sections": [],
      "include_colab_link": true
    },
    "kernelspec": {
      "name": "python3",
      "display_name": "Python 3"
    },
    "language_info": {
      "name": "python"
    },
    "accelerator": "GPU"
  },
  "cells": [
    {
      "cell_type": "markdown",
      "metadata": {
        "id": "view-in-github",
        "colab_type": "text"
      },
      "source": [
        "<a href=\"https://colab.research.google.com/github/yukinaga/ai_programming/blob/main/lecture_14/03_music_transformer_accompaniment.ipynb\" target=\"_parent\"><img src=\"https://colab.research.google.com/assets/colab-badge.svg\" alt=\"Open In Colab\"/></a>"
      ]
    },
    {
      "cell_type": "markdown",
      "metadata": {
        "id": "dPkdg9jTjkTd"
      },
      "source": [
        "# Music Transformerによる伴奏の生成\n",
        "「Music Transformer」を使い、メロディから伴奏を生成します。  \n",
        "生成には時間がかかるので、「編集」→「ノートブックの設定」→「ハードウェア アクセラレータ」で「GPU」を選択しておきましょう。  \n",
        "このノートブックのコードは、以下のリンク先のコードを参考にしています。  \n",
        "https://colab.research.google.com/notebooks/magenta/piano_transformer/piano_transformer.ipynb"
      ]
    },
    {
      "cell_type": "markdown",
      "metadata": {
        "id": "oPKARfZNZ_EA"
      },
      "source": [
        "## ライブラリのインストール\n",
        "Magentaと共に、音楽生成用のライブラリpyFluidSynth、MIDIデータを処理するためのpretty_midiなどをインストールします。  \n",
        "tensorflowのバージョンは、1.xに指定します。"
      ]
    },
    {
      "cell_type": "code",
      "metadata": {
        "id": "PRTOCXhK9YAM"
      },
      "source": [
        "%tensorflow_version 1.x\n",
        "\n",
        "!apt-get update -qq && apt-get install -qq libfluidsynth1 fluid-soundfont-gm build-essential libasound2-dev libjack-dev\n",
        "!pip install -qU pyfluidsynth pretty_midi\n",
        "!pip install -qU magenta\n",
        "!pip install -q \"tensorflow-datasets < 4.0.0\""
      ],
      "execution_count": null,
      "outputs": []
    },
    {
      "cell_type": "markdown",
      "metadata": {
        "id": "F5-xG4QVx1iK"
      },
      "source": [
        "## ライブラリの導入\n",
        "Magentaの必要な機能と、ディープラーニング用のライブラリ「tensor2tensor」、NumPyなどのライブラリを導入します。"
      ]
    },
    {
      "cell_type": "code",
      "metadata": {
        "id": "PuBbvFkNssM3"
      },
      "source": [
        "import numpy as np\n",
        "from google.colab import files\n",
        "import tensorflow.compat.v1 as tf\n",
        "\n",
        "from tensor2tensor import models\n",
        "from tensor2tensor import problems\n",
        "from tensor2tensor.data_generators import text_encoder\n",
        "from tensor2tensor.utils import decoding\n",
        "from tensor2tensor.utils import trainer_lib\n",
        "\n",
        "from magenta.models.score2perf import score2perf\n",
        "import note_seq\n",
        "\n",
        "tf.disable_v2_behavior()"
      ],
      "execution_count": null,
      "outputs": []
    },
    {
      "cell_type": "markdown",
      "metadata": {
        "id": "FDC_l0Guz-go"
      },
      "source": [
        "## 関数の設定\n",
        "頻繁に行う処理を、関数にまとめておきます。"
      ]
    },
    {
      "cell_type": "code",
      "metadata": {
        "id": "91UHtM2lrNvM"
      },
      "source": [
        "# モデルへ入力を渡す関数（generator）\n",
        "inputs = []\n",
        "decode_length = 0\n",
        "def input_generator():\n",
        "  global inputs\n",
        "  while True:\n",
        "    yield {\n",
        "        \"inputs\": np.array([[inputs]], dtype=np.int32),\n",
        "        \"targets\": np.zeros([1, 0], dtype=np.int32),\n",
        "        \"decode_length\": np.array(decode_length, dtype=np.int32)\n",
        "    }\n",
        "\n",
        "# モデルの出力がidなので、それをMIDIにデコードする関数\n",
        "def decode(ids, encoder):\n",
        "    ids = list(ids)\n",
        "    if text_encoder.EOS_ID in ids:\n",
        "        ids = ids[:ids.index(text_encoder.EOS_ID)]\n",
        "    return encoder.decode(ids)"
      ],
      "execution_count": null,
      "outputs": []
    },
    {
      "cell_type": "markdown",
      "metadata": {
        "id": "Y4cnU3U75KJQ"
      },
      "source": [
        "## Music Transformerのモデル\n",
        "Music Transformerのモデルを読み込みます。"
      ]
    },
    {
      "cell_type": "code",
      "metadata": {
        "id": "w77rMbln5Q5K"
      },
      "source": [
        "model_name = \"transformer\"  # モデル\n",
        "hparams_set = \"transformer_tpu\"  # ハイパーパラメータ\n",
        "ckpt_path = 'gs://magentadata/models/music_transformer/checkpoints/melody_conditioned_model_16.ckpt'\n",
        "\n",
        "# エンコーダー生成用のクラス\n",
        "class MelodyToPianoPerformanceProblem(score2perf.AbsoluteMelody2PerfProblem):\n",
        "  @property\n",
        "  def add_eos_symbol(self):\n",
        "    return True\n",
        "\n",
        "problem = MelodyToPianoPerformanceProblem()\n",
        "encoders = problem.get_feature_encoders()\n",
        "\n",
        "# ハイパーパラメータの設定\n",
        "hparams = trainer_lib.create_hparams(hparams_set=hparams_set)\n",
        "trainer_lib.add_problem_hparams(hparams, problem)\n",
        "hparams.num_hidden_layers = 16  # 中間層の数\n",
        "hparams.sampling_method = \"random\"  # サンプリング方法をランダムに\n",
        "\n",
        "# デコーダーのハイパーパラメータを設定\n",
        "decode_hparams = decoding.decode_hparams()\n",
        "decode_hparams.alpha = 0.0\n",
        "decode_hparams.beam_size = 1\n",
        "\n",
        "# モデル（推定器）を構築\n",
        "run_config = trainer_lib.create_run_config(hparams)\n",
        "estimator = trainer_lib.create_estimator(\n",
        "    model_name,\n",
        "    hparams,\n",
        "    run_config,\n",
        "    decode_hparams=decode_hparams\n",
        "    )\n",
        "\n",
        "# 推定\n",
        "input_fn = decoding.make_input_fn_from_generator(input_generator())  # 入力を生成する関数\n",
        "predicted = estimator.predict(\n",
        "    input_fn,\n",
        "    checkpoint_path=ckpt_path  # チェックポイントを読み込む\n",
        "    )\n",
        "\n",
        "# 最初の推定結果は飛ばす\n",
        "next(predicted)"
      ],
      "execution_count": null,
      "outputs": []
    },
    {
      "cell_type": "markdown",
      "metadata": {
        "id": "uFg5FSd6kQn2"
      },
      "source": [
        "メロディのMIDIファイルをアップロードし、NoteSequenceに変換します。"
      ]
    },
    {
      "cell_type": "code",
      "metadata": {
        "id": "LJ5yR8R2kPiT"
      },
      "source": [
        "# MIDIファイルの読み込み\n",
        "midi_data = list(files.upload().values())[0]\n",
        "melody_seq = note_seq.midi_to_note_sequence(midi_data)\n",
        "\n",
        "melody_instrument = note_seq.infer_melody_for_sequence(melody_seq)  # メロディを推定\n",
        "notes = [note for note in melody_seq.notes if note.instrument==melody_instrument]  # メロディを抽出\n",
        "\n",
        "melody_seq.notes.extend(\n",
        "    sorted(notes, key=lambda note: note.start_time)  # noteを開始時刻順にソート\n",
        "    )\n",
        "\n",
        "# 再生と楽譜の表示\n",
        "note_seq.plot_sequence(melody_seq)\n",
        "note_seq.play_sequence(melody_seq, synth=note_seq.fluidsynth) "
      ],
      "execution_count": null,
      "outputs": []
    },
    {
      "cell_type": "markdown",
      "metadata": {
        "id": "e1le8iM0PgLt"
      },
      "source": [
        "推定結果を曲に変換し、再生します。"
      ]
    },
    {
      "cell_type": "code",
      "metadata": {
        "id": "OBxRZjWO5VMH"
      },
      "source": [
        "inputs = encoders[\"inputs\"].encode_note_sequence(melody_seq)  # NoteSequenceを入力用にエンコード\n",
        "decode_length = 4096\n",
        "\n",
        "# 推定結果をidとして取得\n",
        "predicted_ids = next(predicted)[\"outputs\"]\n",
        "\n",
        "# idをNoteSequenceに変換\n",
        "midi_file = decode(\n",
        "    predicted_ids,\n",
        "    encoder=encoders[\"targets\"]\n",
        "    )\n",
        "seq = note_seq.midi_file_to_note_sequence(midi_file)\n",
        "\n",
        "# 再生と楽譜の表示\n",
        "note_seq.plot_sequence(seq)\n",
        "note_seq.play_sequence(seq, synth=note_seq.fluidsynth) "
      ],
      "execution_count": null,
      "outputs": []
    },
    {
      "cell_type": "markdown",
      "metadata": {
        "id": "2Y0BXztnDHep"
      },
      "source": [
        "`NoteSequence`をMIDIデータに変換し、保存してダウンロードします。\n"
      ]
    },
    {
      "cell_type": "code",
      "metadata": {
        "id": "3V2HpDk9DHe2"
      },
      "source": [
        "note_seq.sequence_proto_to_midi_file(seq, \"music_transformer_accompaniment.mid\")  #MIDI　データに変換し保存\n",
        "files.download(\"music_transformer_accompaniment.mid\")  # ダウンロード"
      ],
      "execution_count": null,
      "outputs": []
    }
  ]
}