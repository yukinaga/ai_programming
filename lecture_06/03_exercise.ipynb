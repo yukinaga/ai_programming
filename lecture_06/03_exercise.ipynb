{
  "nbformat": 4,
  "nbformat_minor": 0,
  "metadata": {
    "colab": {
      "name": "03_exercise.ipynb",
      "provenance": [],
      "collapsed_sections": [],
      "include_colab_link": true
    },
    "kernelspec": {
      "name": "python3",
      "display_name": "Python 3"
    },
    "language_info": {
      "name": "python"
    }
  },
  "cells": [
    {
      "cell_type": "markdown",
      "metadata": {
        "id": "view-in-github",
        "colab_type": "text"
      },
      "source": [
        "<a href=\"https://colab.research.google.com/github/yukinaga/ai_programming/blob/main/lecture_06/03_exercise.ipynb\" target=\"_parent\"><img src=\"https://colab.research.google.com/assets/colab-badge.svg\" alt=\"Open In Colab\"/></a>"
      ]
    },
    {
      "cell_type": "markdown",
      "metadata": {
        "id": "dPkdg9jTjkTd"
      },
      "source": [
        "# 演習\n",
        "Tensorflowベースのアート関連ライブラリ「Magenta」を使います。  \n",
        "Magenta内のモデル「Music VAE」を使って、自由に作曲しましょう。  \n",
        "主に、 曲の最初のNoteSequenceと、最後のNoteSequenceに変更を加えます。  "
      ]
    },
    {
      "cell_type": "markdown",
      "metadata": {
        "id": "oPKARfZNZ_EA"
      },
      "source": [
        "## ライブラリのインストール"
      ]
    },
    {
      "cell_type": "code",
      "metadata": {
        "id": "PRTOCXhK9YAM"
      },
      "source": [
        "!apt-get update -qq && apt-get install -qq libfluidsynth1 fluid-soundfont-gm build-essential libasound2-dev libjack-dev\n",
        "!pip install -qU pyfluidsynth pretty_midi\n",
        "!pip install -qU magenta"
      ],
      "execution_count": null,
      "outputs": []
    },
    {
      "cell_type": "markdown",
      "metadata": {
        "id": "5H2vxVUuEHpd"
      },
      "source": [
        "## チェックポイントのダウンロード"
      ]
    },
    {
      "cell_type": "code",
      "metadata": {
        "id": "C637bckb6RSO"
      },
      "source": [
        "!gsutil -q -m cp -R gs://download.magenta.tensorflow.org/models/music_vae/colab2/checkpoints/mel_2bar_big.ckpt.* /content/"
      ],
      "execution_count": null,
      "outputs": []
    },
    {
      "cell_type": "markdown",
      "metadata": {
        "id": "gxRHOOL-FVau"
      },
      "source": [
        "## モデルの初期化"
      ]
    },
    {
      "cell_type": "code",
      "metadata": {
        "id": "wrCYJq1_3PPA"
      },
      "source": [
        "from magenta.models.music_vae import configs\n",
        "from magenta.models.music_vae.trained_model import TrainedModel\n",
        "\n",
        "# モデルの初期化\n",
        "music_vae = TrainedModel(\n",
        "      configs.CONFIG_MAP[\"cat-mel_2bar_big\"], \n",
        "      batch_size=4,  # 一度に処理するデータ数\n",
        "      checkpoint_dir_or_path=\"/content/mel_2bar_big.ckpt\")"
      ],
      "execution_count": null,
      "outputs": []
    },
    {
      "cell_type": "markdown",
      "metadata": {
        "id": "B7fOKOxHIXBX"
      },
      "source": [
        "## NoteSequenceの生成\n",
        "\n",
        "温度（ランダム度合い）を、好みに合わせて変更しましょう。    "
      ]
    },
    {
      "cell_type": "code",
      "metadata": {
        "id": "16hXL1_O7Bdc"
      },
      "source": [
        "import note_seq\n",
        "\n",
        "generated = music_vae.sample(n=5,  # 生成数\n",
        "                             length=128,  # ステップ数\n",
        "                             temperature=1.0)  # 温度\n",
        "\n",
        "for ns in generated:\n",
        "    note_seq.plot_sequence(ns)\n",
        "    note_seq.play_sequence(ns, synth=note_seq.fluidsynth)"
      ],
      "execution_count": null,
      "outputs": []
    },
    {
      "cell_type": "markdown",
      "metadata": {
        "id": "oLSgiA6Uktpm"
      },
      "source": [
        "## 最初と最後のNoteSequence\n",
        "\n",
        "曲の最初のNoteSequenceと、最後のNoteSequenceに変更を加えましょう。\n"
      ]
    },
    {
      "cell_type": "code",
      "metadata": {
        "id": "71dgCmmBli-s"
      },
      "source": [
        "import magenta\n",
        "import note_seq\n",
        "from note_seq.protobuf import music_pb2\n",
        "\n",
        "# 最初のNoteSeqence\n",
        "kira2_start = music_pb2.NoteSequence()\n",
        "\n",
        "kira2_start.notes.add(pitch=60, start_time=0.0, end_time=0.4, velocity=80)\n",
        "kira2_start.notes.add(pitch=60, start_time=0.4, end_time=0.8, velocity=80)\n",
        "kira2_start.notes.add(pitch=67, start_time=0.8, end_time=1.2, velocity=80)\n",
        "kira2_start.notes.add(pitch=67, start_time=1.2, end_time=1.6, velocity=80)\n",
        "kira2_start.notes.add(pitch=69, start_time=1.6, end_time=2.0, velocity=80)\n",
        "kira2_start.notes.add(pitch=69, start_time=2.0, end_time=2.4, velocity=80)\n",
        "kira2_start.notes.add(pitch=67, start_time=2.4, end_time=3.2, velocity=80)\n",
        "kira2_start.notes.add(pitch=65, start_time=3.2, end_time=3.6, velocity=80)\n",
        "kira2_start.notes.add(pitch=65, start_time=3.6, end_time=4.0, velocity=80)\n",
        "kira2_start.notes.add(pitch=64, start_time=4.0, end_time=4.4, velocity=80)\n",
        "kira2_start.notes.add(pitch=64, start_time=4.4, end_time=4.8, velocity=80)\n",
        "kira2_start.notes.add(pitch=62, start_time=4.8, end_time=5.2, velocity=80)\n",
        "kira2_start.notes.add(pitch=62, start_time=5.2, end_time=5.6, velocity=80)\n",
        "kira2_start.notes.add(pitch=60, start_time=5.6, end_time=6.4, velocity=80) \n",
        "\n",
        "kira2_start.total_time = 6.4 \n",
        "kira2_start.tempos.add(qpm=75);\n",
        "\n",
        "note_seq.plot_sequence(kira2_start)\n",
        "note_seq.play_sequence(kira2_start, synth=note_seq.fluidsynth)\n",
        "\n",
        "# 最後のNoteSeqence\n",
        "kira2_end = music_pb2.NoteSequence()\n",
        "\n",
        "kira2_end.notes.add(pitch=60, start_time=0.0, end_time=0.4, velocity=80)\n",
        "kira2_end.notes.add(pitch=62, start_time=0.4, end_time=0.8, velocity=80)\n",
        "kira2_end.notes.add(pitch=64, start_time=0.8, end_time=1.2, velocity=80)\n",
        "kira2_end.notes.add(pitch=67, start_time=1.2, end_time=1.6, velocity=80)\n",
        "kira2_end.notes.add(pitch=69, start_time=1.6, end_time=2.0, velocity=80)\n",
        "kira2_end.notes.add(pitch=64, start_time=2.0, end_time=2.4, velocity=80)\n",
        "kira2_end.notes.add(pitch=60, start_time=2.4, end_time=3.2, velocity=80)\n",
        "kira2_end.notes.add(pitch=62, start_time=3.2, end_time=3.6, velocity=80)\n",
        "kira2_end.notes.add(pitch=64, start_time=3.6, end_time=4.0, velocity=80)\n",
        "kira2_end.notes.add(pitch=67, start_time=4.0, end_time=4.4, velocity=80)\n",
        "kira2_end.notes.add(pitch=69, start_time=4.4, end_time=4.8, velocity=80)\n",
        "kira2_end.notes.add(pitch=64, start_time=4.8, end_time=5.2, velocity=80)\n",
        "kira2_end.notes.add(pitch=62, start_time=5.2, end_time=5.6, velocity=80)\n",
        "kira2_end.notes.add(pitch=60, start_time=5.6, end_time=6.4, velocity=80) \n",
        "\n",
        "kira2_end.total_time = 6.4\n",
        "kira2_end.tempos.add(qpm=75); \n",
        "\n",
        "note_seq.plot_sequence(kira2_end)\n",
        "note_seq.play_sequence(kira2_end, synth=note_seq.fluidsynth)  # NoteSequenceの再生"
      ],
      "execution_count": null,
      "outputs": []
    },
    {
      "cell_type": "markdown",
      "metadata": {
        "id": "5Awec7IROdc6"
      },
      "source": [
        "## NoteSequnce間の補間\n",
        "どのような曲が生成されるのか、以下のコードにより確認します。  "
      ]
    },
    {
      "cell_type": "code",
      "metadata": {
        "id": "R3-b9gfE8xQm"
      },
      "source": [
        "n_seq = 8  # 曲のNoteSeqence数（最初と最後を含む）\n",
        "\n",
        "# NoteSeqenceを複数生成し、リストに格納\n",
        "gen_seq = music_vae.interpolate(\n",
        "    kira2_start,  # 最初のNoteSeqence\n",
        "    kira2_end,  # 最後のNoteSeqence\n",
        "    num_steps=n_seq,\n",
        "    length=32)\n",
        "\n",
        "# NoteSeqenceを全て結合し、1つの曲に\n",
        "interp_seq = note_seq.sequences_lib.concatenate_sequences(gen_seq)\n",
        "\n",
        "note_seq.plot_sequence(interp_seq)\n",
        "note_seq.play_sequence(interp_seq, synth=note_seq.fluidsynth)"
      ],
      "execution_count": null,
      "outputs": []
    },
    {
      "cell_type": "markdown",
      "metadata": {
        "id": "QhtRBNNf05CA"
      },
      "source": [
        "## MIDIファイルの保存とダウンロード"
      ]
    },
    {
      "cell_type": "code",
      "metadata": {
        "id": "EcmmAToP4WE3"
      },
      "source": [
        "from google.colab import files\n",
        "\n",
        "note_seq.sequence_proto_to_midi_file(interp_seq, \"exercise.mid\")  #MIDI　データに変換し保存\n",
        "files.download(\"exercise.mid\")  # ダウンロード"
      ],
      "execution_count": null,
      "outputs": []
    }
  ]
}